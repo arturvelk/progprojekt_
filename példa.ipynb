{
 "cells": [
  {
   "cell_type": "code",
   "execution_count": 1,
   "metadata": {
    "ExecuteTime": {
     "end_time": "2021-01-28T23:29:09.480032Z",
     "start_time": "2021-01-28T23:29:06.546341Z"
    }
   },
   "outputs": [],
   "source": [
    "import aoc"
   ]
  },
  {
   "cell_type": "code",
   "execution_count": 2,
   "metadata": {
    "ExecuteTime": {
     "end_time": "2021-01-28T23:29:09.495104Z",
     "start_time": "2021-01-28T23:29:09.484000Z"
    }
   },
   "outputs": [],
   "source": [
    "#aoc.get_session(\"chrome\")\n",
    "#összeszedi a chromebol az adventofcode.com -hoz tartózó egyéni session cookiet, ez kell az aocd package futtatásához."
   ]
  },
  {
   "cell_type": "code",
   "execution_count": 3,
   "metadata": {
    "ExecuteTime": {
     "end_time": "2021-01-28T23:29:09.526981Z",
     "start_time": "2021-01-28T23:29:09.500089Z"
    }
   },
   "outputs": [
    {
     "name": "stdout",
     "output_type": "stream",
     "text": [
      "sikerült\n"
     ]
    }
   ],
   "source": [
    "aoc.set_session(\"53616c7465645f5f65abe89ef3b2ac063a25e8be1597684d830da9abdcf516a07d72b3bd7a9b2e876091d34eff674e7a\")\n",
    "#beallitom temporary env változónak a session ID-t (ez itt Sebié például.)"
   ]
  },
  {
   "cell_type": "code",
   "execution_count": 4,
   "metadata": {
    "ExecuteTime": {
     "end_time": "2021-01-28T23:29:17.035914Z",
     "start_time": "2021-01-28T23:29:09.531971Z"
    }
   },
   "outputs": [
    {
     "name": "stdout",
     "output_type": "stream",
     "text": [
      "0\n",
      "1\n",
      "2\n",
      "3\n",
      "4\n",
      "5\n",
      "6\n",
      "7\n",
      "8\n",
      "9\n",
      "10\n",
      "11\n",
      "12\n",
      "13\n",
      "14\n",
      "15\n",
      "16\n",
      "17\n",
      "18\n",
      "19\n",
      "20\n",
      "21\n",
      "22\n",
      "23\n",
      "24\n"
     ]
    },
    {
     "data": {
      "text/plain": [
       "[2, 2, 2, 2, 2, 2, 2, 2, 2, 2, 2, 2, 2, 2, 2, 2, 2, 2, 2, 2, 0, 0, 0, 0, 1]"
      ]
     },
     "execution_count": 4,
     "metadata": {},
     "output_type": "execute_result"
    }
   ],
   "source": [
    "df = aoc.csillagok(2020)\n",
    "#lementem a csillagok számát egy listába (nemtudom miért de a 25-ösre mindig berak 1-et)\n",
    "df"
   ]
  },
  {
   "cell_type": "code",
   "execution_count": 5,
   "metadata": {
    "ExecuteTime": {
     "end_time": "2021-01-28T23:29:18.261929Z",
     "start_time": "2021-01-28T23:29:17.038875Z"
    }
   },
   "outputs": [],
   "source": [
    "instance = aoc.get_spreadsheet_instance(\"aocprogprojekt-3efc6a57ec01.json\")\n",
    "#spreadsheet instance"
   ]
  },
  {
   "cell_type": "code",
   "execution_count": 6,
   "metadata": {
    "ExecuteTime": {
     "end_time": "2021-01-28T23:29:18.651650Z",
     "start_time": "2021-01-28T23:29:18.268230Z"
    }
   },
   "outputs": [
    {
     "data": {
      "text/html": [
       "<div>\n",
       "<style scoped>\n",
       "    .dataframe tbody tr th:only-of-type {\n",
       "        vertical-align: middle;\n",
       "    }\n",
       "\n",
       "    .dataframe tbody tr th {\n",
       "        vertical-align: top;\n",
       "    }\n",
       "\n",
       "    .dataframe thead th {\n",
       "        text-align: right;\n",
       "    }\n",
       "</style>\n",
       "<table border=\"1\" class=\"dataframe\">\n",
       "  <thead>\n",
       "    <tr style=\"text-align: right;\">\n",
       "      <th></th>\n",
       "      <th>napok</th>\n",
       "      <th>Velkey Artúr</th>\n",
       "      <th>Tompa Mátyás</th>\n",
       "      <th>Barát Andor</th>\n",
       "      <th>Pap Sebestyén</th>\n",
       "      <th>Valentinyi Anna</th>\n",
       "      <th>Kégl Virág</th>\n",
       "      <th>Balázs József</th>\n",
       "      <th>Mendöl Márk</th>\n",
       "      <th>Kalotai Bálint</th>\n",
       "    </tr>\n",
       "  </thead>\n",
       "  <tbody>\n",
       "    <tr>\n",
       "      <th>0</th>\n",
       "      <td>1</td>\n",
       "      <td>1</td>\n",
       "      <td>1</td>\n",
       "      <td>1</td>\n",
       "      <td>2</td>\n",
       "      <td>1</td>\n",
       "      <td>1</td>\n",
       "      <td>1</td>\n",
       "      <td>1</td>\n",
       "      <td>1</td>\n",
       "    </tr>\n",
       "    <tr>\n",
       "      <th>1</th>\n",
       "      <td>2</td>\n",
       "      <td>1</td>\n",
       "      <td>1</td>\n",
       "      <td>1</td>\n",
       "      <td>2</td>\n",
       "      <td>1</td>\n",
       "      <td>1</td>\n",
       "      <td>1</td>\n",
       "      <td>1</td>\n",
       "      <td>1</td>\n",
       "    </tr>\n",
       "    <tr>\n",
       "      <th>2</th>\n",
       "      <td>3</td>\n",
       "      <td>2</td>\n",
       "      <td>2</td>\n",
       "      <td>2</td>\n",
       "      <td>2</td>\n",
       "      <td>2</td>\n",
       "      <td>2</td>\n",
       "      <td>2</td>\n",
       "      <td>2</td>\n",
       "      <td>2</td>\n",
       "    </tr>\n",
       "    <tr>\n",
       "      <th>3</th>\n",
       "      <td>4</td>\n",
       "      <td>1</td>\n",
       "      <td>1</td>\n",
       "      <td>1</td>\n",
       "      <td>2</td>\n",
       "      <td>1</td>\n",
       "      <td>1</td>\n",
       "      <td>1</td>\n",
       "      <td>1</td>\n",
       "      <td>1</td>\n",
       "    </tr>\n",
       "    <tr>\n",
       "      <th>4</th>\n",
       "      <td>5</td>\n",
       "      <td>1</td>\n",
       "      <td>1</td>\n",
       "      <td>1</td>\n",
       "      <td>2</td>\n",
       "      <td>1</td>\n",
       "      <td>1</td>\n",
       "      <td>1</td>\n",
       "      <td>1</td>\n",
       "      <td>1</td>\n",
       "    </tr>\n",
       "  </tbody>\n",
       "</table>\n",
       "</div>"
      ],
      "text/plain": [
       "   napok  Velkey Artúr  Tompa Mátyás  Barát Andor  Pap Sebestyén  \\\n",
       "0      1             1             1            1              2   \n",
       "1      2             1             1            1              2   \n",
       "2      3             2             2            2              2   \n",
       "3      4             1             1            1              2   \n",
       "4      5             1             1            1              2   \n",
       "\n",
       "   Valentinyi Anna  Kégl Virág  Balázs József  Mendöl Márk  Kalotai Bálint  \n",
       "0                1           1              1            1               1  \n",
       "1                1           1              1            1               1  \n",
       "2                2           2              2            2               2  \n",
       "3                1           1              1            1               1  \n",
       "4                1           1              1            1               1  "
      ]
     },
     "execution_count": 6,
     "metadata": {},
     "output_type": "execute_result"
    }
   ],
   "source": [
    "sheet = aoc.get_df(instance)\n",
    "sheet.head()\n",
    "#ez most random van picit feltöltve"
   ]
  },
  {
   "cell_type": "code",
   "execution_count": 7,
   "metadata": {
    "ExecuteTime": {
     "end_time": "2021-01-28T23:29:18.682566Z",
     "start_time": "2021-01-28T23:29:18.655611Z"
    }
   },
   "outputs": [
    {
     "data": {
      "text/html": [
       "<div>\n",
       "<style scoped>\n",
       "    .dataframe tbody tr th:only-of-type {\n",
       "        vertical-align: middle;\n",
       "    }\n",
       "\n",
       "    .dataframe tbody tr th {\n",
       "        vertical-align: top;\n",
       "    }\n",
       "\n",
       "    .dataframe thead th {\n",
       "        text-align: right;\n",
       "    }\n",
       "</style>\n",
       "<table border=\"1\" class=\"dataframe\">\n",
       "  <thead>\n",
       "    <tr style=\"text-align: right;\">\n",
       "      <th></th>\n",
       "      <th>napok</th>\n",
       "      <th>Velkey Artúr</th>\n",
       "      <th>Tompa Mátyás</th>\n",
       "      <th>Barát Andor</th>\n",
       "      <th>Pap Sebestyén</th>\n",
       "      <th>Valentinyi Anna</th>\n",
       "      <th>Kégl Virág</th>\n",
       "      <th>Balázs József</th>\n",
       "      <th>Mendöl Márk</th>\n",
       "      <th>Kalotai Bálint</th>\n",
       "    </tr>\n",
       "  </thead>\n",
       "  <tbody>\n",
       "    <tr>\n",
       "      <th>0</th>\n",
       "      <td>1</td>\n",
       "      <td>1</td>\n",
       "      <td>1</td>\n",
       "      <td>1</td>\n",
       "      <td>2</td>\n",
       "      <td>1</td>\n",
       "      <td>1</td>\n",
       "      <td>1</td>\n",
       "      <td>1</td>\n",
       "      <td>1</td>\n",
       "    </tr>\n",
       "    <tr>\n",
       "      <th>1</th>\n",
       "      <td>2</td>\n",
       "      <td>1</td>\n",
       "      <td>1</td>\n",
       "      <td>1</td>\n",
       "      <td>2</td>\n",
       "      <td>1</td>\n",
       "      <td>1</td>\n",
       "      <td>1</td>\n",
       "      <td>1</td>\n",
       "      <td>1</td>\n",
       "    </tr>\n",
       "    <tr>\n",
       "      <th>2</th>\n",
       "      <td>3</td>\n",
       "      <td>2</td>\n",
       "      <td>2</td>\n",
       "      <td>2</td>\n",
       "      <td>2</td>\n",
       "      <td>2</td>\n",
       "      <td>2</td>\n",
       "      <td>2</td>\n",
       "      <td>2</td>\n",
       "      <td>2</td>\n",
       "    </tr>\n",
       "    <tr>\n",
       "      <th>3</th>\n",
       "      <td>4</td>\n",
       "      <td>1</td>\n",
       "      <td>1</td>\n",
       "      <td>1</td>\n",
       "      <td>2</td>\n",
       "      <td>1</td>\n",
       "      <td>1</td>\n",
       "      <td>1</td>\n",
       "      <td>1</td>\n",
       "      <td>1</td>\n",
       "    </tr>\n",
       "    <tr>\n",
       "      <th>4</th>\n",
       "      <td>5</td>\n",
       "      <td>1</td>\n",
       "      <td>1</td>\n",
       "      <td>1</td>\n",
       "      <td>2</td>\n",
       "      <td>1</td>\n",
       "      <td>1</td>\n",
       "      <td>1</td>\n",
       "      <td>1</td>\n",
       "      <td>1</td>\n",
       "    </tr>\n",
       "  </tbody>\n",
       "</table>\n",
       "</div>"
      ],
      "text/plain": [
       "   napok  Velkey Artúr  Tompa Mátyás  Barát Andor  Pap Sebestyén  \\\n",
       "0      1             1             1            1              2   \n",
       "1      2             1             1            1              2   \n",
       "2      3             2             2            2              2   \n",
       "3      4             1             1            1              2   \n",
       "4      5             1             1            1              2   \n",
       "\n",
       "   Valentinyi Anna  Kégl Virág  Balázs József  Mendöl Márk  Kalotai Bálint  \n",
       "0                1           1              1            1               1  \n",
       "1                1           1              1            1               1  \n",
       "2                2           2              2            2               2  \n",
       "3                1           1              1            1               1  \n",
       "4                1           1              1            1               1  "
      ]
     },
     "execution_count": 7,
     "metadata": {},
     "output_type": "execute_result"
    }
   ],
   "source": [
    "sheet[\"Pap Sebestyén\"] = df\n",
    "sheet.head()"
   ]
  },
  {
   "cell_type": "code",
   "execution_count": 8,
   "metadata": {
    "ExecuteTime": {
     "end_time": "2021-01-28T23:29:19.165831Z",
     "start_time": "2021-01-28T23:29:18.685528Z"
    }
   },
   "outputs": [],
   "source": [
    "aoc.update_spreadsheet(sheet, instance)\n",
    "#updateltem a spreadsheetemet."
   ]
  },
  {
   "cell_type": "code",
   "execution_count": 9,
   "metadata": {
    "ExecuteTime": {
     "end_time": "2021-01-28T23:29:27.633654Z",
     "start_time": "2021-01-28T23:29:19.175806Z"
    }
   },
   "outputs": [
    {
     "data": {
      "image/png": "[encoded data removed]",
      "text/plain": [
       "<Figure size 864x288 with 1 Axes>"
      ]
     },
     "metadata": {
      "needs_background": "light"
     },
     "output_type": "display_data"
    }
   ],
   "source": [
    "szumma = {}\n",
    "for i in list(sheet.columns):\n",
    "    szumma[i] = [sum(sheet[i])]\n",
    "df = sheet.append(aoc.pd.DataFrame(szumma, index = [\"összesen\"]))\n",
    "aoc.to_pdf(df)\n",
    "#utolsó sorban összeadtam a számokat és kiraktam egy pdf-be, aminek az a neve hogy current_standing.pdf"
   ]
  },
  {
   "cell_type": "code",
   "execution_count": 10,
   "metadata": {
    "ExecuteTime": {
     "end_time": "2021-01-28T23:29:30.068326Z",
     "start_time": "2021-01-28T23:29:27.635653Z"
    }
   },
   "outputs": [
    {
     "name": "stdout",
     "output_type": "stream",
     "text": [
      "Sent email successfully\n"
     ]
    }
   ],
   "source": [
    "aoc.send_email_update(\"velkeyartur@gmail.com\",\"lyprjyjfolhmqvqt\",\"velkeyartur@gmail.com\",\"current_standing.pdf\")\n",
    "#és elküldtem most magamnak a mostani állást a csillagokkal kapcsolatban.\n",
    "#ezt elvileg megkéne kapnia benyának 31.-en 00:01:00-kor."
   ]
  },
  {
   "cell_type": "code",
   "execution_count": null,
   "metadata": {},
   "outputs": [],
   "source": []
  }
 ],
 "metadata": {
  "kernelspec": {
   "display_name": "Python 3",
   "language": "python",
   "name": "python3"
  },
  "language_info": {
   "codemirror_mode": {
    "name": "ipython",
    "version": 3
   },
   "file_extension": ".py",
   "mimetype": "text/x-python",
   "name": "python",
   "nbconvert_exporter": "python",
   "pygments_lexer": "ipython3",
   "version": "3.8.6"
  }
 },
 "nbformat": 4,
 "nbformat_minor": 4
}
